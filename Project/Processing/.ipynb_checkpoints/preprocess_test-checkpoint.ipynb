{
 "cells": [
  {
   "cell_type": "code",
   "execution_count": 55,
   "id": "37c37737",
   "metadata": {},
   "outputs": [],
   "source": [
    "from scipy.fftpack import fft\n",
    "from scipy.signal import welch\n",
    "import numpy as np\n",
    "from scipy.signal import find_peaks\n",
    "import matplotlib.pyplot as plt\n",
    "\n",
    "def get_psd_values(y_values, T, N, f_s):\n",
    "    f_values, psd_values = welch(y_values, fs=f_s)\n",
    "    return f_values, psd_values\n",
    "\n",
    "def get_fft_values(y_values, T, N, f_s):\n",
    "    f_values = np.linspace(0.0, 1.0/(2.0*T), N//2)\n",
    "    fft_values_ = fft(y_values)\n",
    "    fft_values = 2.0/N * np.abs(fft_values_[0:N//2])\n",
    "    return f_values, fft_values\n",
    "\n",
    "def autocorr(x):\n",
    "    result = np.correlate(x, x, mode='full')\n",
    "    return result[len(result)//2:]\n",
    "\n",
    "def get_autocorr_values(y_values, T, N, f_s):\n",
    "    autocorr_values = autocorr(y_values)\n",
    "    x_values = np.array([T * jj for jj in range(0, N)])\n",
    "    return x_values, autocorr_values\n",
    "\n",
    "def takeSecond(elem):\n",
    "    return elem[1]\n",
    "\n",
    "def get_first_n_peaks(x,y,no_peaks=5):\n",
    "    indices_peaks = find_peaks(y)[0]\n",
    "#     print(indices_peaks)\n",
    "#     print(x_)\n",
    "    if len(indices_peaks) >= no_peaks:\n",
    "        peaks_x = [x[peak] for peak in indices_peaks]\n",
    "        peaks_y = [y[peak] for peak in indices_peaks]\n",
    "        x_y = list(zip(peaks_x, peaks_y))\n",
    "        x_y.sort(key=takeSecond)\n",
    "        peaks_x, peaks_y = zip(*x_y)[0]\n",
    "         = zip(*x_y)\n",
    "        \n",
    "        return x_y[:no_peaks], peaks_y[:no_peaks]\n",
    "    else:\n",
    "        missing_no_peaks = no_peaks-len(indices_peaks)\n",
    "        return [x[peak] for peak in indices_peaks] + [0]*missing_no_peaks, [y[peak] for peak in indices_peaks] + [0]*missing_no_peaks"
   ]
  },
  {
   "cell_type": "code",
   "execution_count": 56,
   "id": "fd297e00",
   "metadata": {},
   "outputs": [
    {
     "name": "stdout",
     "output_type": "stream",
     "text": [
      "[(6.513026052104209, 3.9413514330864996), (5.01002004008016, 5.968855279020006), (3.006012024048096, 7.981313805910993), (1.503006012024048, 9.976664341829428), (1.0020040080160322, 14.026036207988673), (20.04008016032064, 18.682680165141274)]\n"
     ]
    },
    {
     "data": {
      "image/png": "[encoded data removed]",
      "text/plain": [
       "<Figure size 432x288 with 1 Axes>"
      ]
     },
     "metadata": {
      "needs_background": "light"
     },
     "output_type": "display_data"
    }
   ],
   "source": [
    "t_n = 10\n",
    "N = 1000\n",
    "T = t_n / N\n",
    "f_s = 1/T\n",
    "\n",
    "x_value = np.linspace(0,t_n,N)\n",
    "amplitudes = [4, 6, 8, 10, 14, 20]\n",
    "frequencies = [6.5, 5, 3, 1.5, 1, 20]\n",
    "y_values = [amplitudes[ii]*np.sin(2*np.pi*frequencies[ii]*x_value) for ii in range(0,len(amplitudes))]\n",
    "composite_y_value = np.sum(y_values, axis=0)\n",
    "\n",
    "f_values_fft, fft_values = get_fft_values(composite_y_value, T, N, f_s)\n",
    "f_values_psd, psd_values = get_psd_values(composite_y_value, T, N, f_s)\n",
    "t_values, autocorr_values = get_autocorr_values(composite_y_value, T, N, f_s)\n",
    "\n",
    "x_peaks, y_peaks = get_first_n_peaks(f_values_fft, fft_values)\n",
    "\n",
    "plt.plot(f_values_fft, fft_values, linestyle='-', color='blue')\n",
    "plt.scatter(x_peaks, y_peaks, color='red', marker='*', s=60)\n",
    "plt.xlabel('Frequency [Hz]', fontsize=16)\n",
    "plt.ylabel('Amplitude', fontsize=16)\n",
    "plt.title(\"Frequency domain of the signal\", fontsize=16)\n",
    "plt.show()"
   ]
  }
 ],
 "metadata": {
  "kernelspec": {
   "display_name": "Python 3",
   "language": "python",
   "name": "python3"
  },
  "language_info": {
   "codemirror_mode": {
    "name": "ipython",
    "version": 3
   },
   "file_extension": ".py",
   "mimetype": "text/x-python",
   "name": "python",
   "nbconvert_exporter": "python",
   "pygments_lexer": "ipython3",
   "version": "3.8.8"
  }
 },
 "nbformat": 4,
 "nbformat_minor": 5
}
