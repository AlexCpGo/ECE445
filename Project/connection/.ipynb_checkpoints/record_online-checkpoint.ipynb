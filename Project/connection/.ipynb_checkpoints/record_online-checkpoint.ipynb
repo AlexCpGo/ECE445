{
 "cells": [
  {
   "cell_type": "code",
   "execution_count": null,
   "id": "30004fd8",
   "metadata": {},
   "outputs": [],
   "source": [
    "from socket import *\n",
    "import threading\n",
    "\n",
    "def fun():\n",
    "    with socket(AF_INET, SOCK_STREAM) as s:\n",
    "        f = open('log.txt', 'w')\n",
    "        s.connect((\"172.20.10.7\", 8086))\n",
    "        print(\"dddd\")\n",
    "        while True:\n",
    "            recvdata = s.recv(1024).decode(\"utf-8\")\n",
    "            if len(recvdata) != 0:\n",
    "                print(recvdata)\n",
    "                f.write(recvdata)\n",
    "\n",
    "t = threading.Thread(target=fun)\n",
    "t.start()"
   ]
  }
 ],
 "metadata": {
  "kernelspec": {
   "display_name": "Python 3",
   "language": "python",
   "name": "python3"
  },
  "language_info": {
   "codemirror_mode": {
    "name": "ipython",
    "version": 3
   },
   "file_extension": ".py",
   "mimetype": "text/x-python",
   "name": "python",
   "nbconvert_exporter": "python",
   "pygments_lexer": "ipython3",
   "version": "3.8.8"
  }
 },
 "nbformat": 4,
 "nbformat_minor": 5
}
